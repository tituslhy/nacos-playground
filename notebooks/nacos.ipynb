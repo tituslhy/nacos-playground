{
 "cells": [
  {
   "cell_type": "code",
   "execution_count": 1,
   "id": "ea2509b8",
   "metadata": {},
   "outputs": [],
   "source": [
    "%load_ext autoreload\n",
    "%autoreload 2"
   ]
  },
  {
   "cell_type": "markdown",
   "id": "c722f79b",
   "metadata": {},
   "source": [
    "# Register ACP service\n",
    "\n",
    "First ensure that your ACP tool is up and running by executing the following command in your terminal from the root directory:\n",
    "```\n",
    "python search_tool.py\n",
    "```"
   ]
  },
  {
   "cell_type": "code",
   "execution_count": 2,
   "id": "592e78dc",
   "metadata": {},
   "outputs": [
    {
     "name": "stdout",
     "output_type": "stream",
     "text": [
      "# intentionally left blank\n"
     ]
    }
   ],
   "source": [
    "import nacos\n",
    "\n",
    "SERVER_ADDRESSES = \"http://localhost:8848\"\n",
    "NAMESPACE = \"public\"\n",
    "\n",
    "client = nacos.NacosClient(\n",
    "    SERVER_ADDRESSES,\n",
    "    namespace=NAMESPACE,\n",
    "    # if you need auth:\n",
    "    # ak=\"yourAccessKey\", sk=\"yourSecretKey\"\n",
    ")\n",
    "\n",
    "data_id = \"config.nacos\"\n",
    "group = \"DEFAULT_GROUP\"\n",
    "print(client.get_config(data_id, group))"
   ]
  },
  {
   "cell_type": "code",
   "execution_count": 5,
   "id": "91d4f0ee",
   "metadata": {},
   "outputs": [
    {
     "name": "stdout",
     "output_type": "stream",
     "text": [
      "Registered with Nacos? True\n"
     ]
    }
   ],
   "source": [
    "import os\n",
    "\n",
    "SERVICE_NAME = \"internet-search-agent\"\n",
    "SERVICE_IP   = os.getenv(\"SERVICE_IP\", \"127.0.0.1\")\n",
    "SERVICE_PORT = int(os.getenv(\"SERVICE_PORT\", \"8008\"))\n",
    "\n",
    "success = client.add_naming_instance(\n",
    "    service_name=SERVICE_NAME,\n",
    "    ip=SERVICE_IP,\n",
    "    port=SERVICE_PORT, \n",
    "    weight=1.0, #A float number for load balancing weight\n",
    "    enable=True,\n",
    "    healthy=True,\n",
    "    metadata={\"protocol\": \"acp\"}\n",
    ")\n",
    "print(f\"Registered with Nacos? {success}\")"
   ]
  },
  {
   "cell_type": "markdown",
   "id": "8feca54e",
   "metadata": {},
   "source": [
    "Deregister instance"
   ]
  },
  {
   "cell_type": "code",
   "execution_count": null,
   "id": "286c5d35",
   "metadata": {},
   "outputs": [
    {
     "name": "stdout",
     "output_type": "stream",
     "text": [
      "De-Registered with Nacos? True\n"
     ]
    }
   ],
   "source": [
    "# SERVICE_NAME = \"internet-search-agent\"\n",
    "# SERVICE_IP   = os.getenv(\"SERVICE_IP\", \"127.0.0.1\")\n",
    "# SERVICE_PORT = int(os.getenv(\"SERVICE_PORT\", \"8000\"))\n",
    "\n",
    "# success = client.remove_naming_instance(\n",
    "#     service_name=SERVICE_NAME,\n",
    "#     ip=SERVICE_IP,\n",
    "#     port=SERVICE_PORT, \n",
    "# )\n",
    "# print(f\"De-Registered with Nacos? {success}\")"
   ]
  },
  {
   "cell_type": "markdown",
   "id": "ef05ecad",
   "metadata": {},
   "source": [
    "# Call MCP tools"
   ]
  },
  {
   "cell_type": "code",
   "execution_count": null,
   "id": "41cb1e11",
   "metadata": {},
   "outputs": [],
   "source": []
  }
 ],
 "metadata": {
  "kernelspec": {
   "display_name": "nacos-playground",
   "language": "python",
   "name": "python3"
  },
  "language_info": {
   "codemirror_mode": {
    "name": "ipython",
    "version": 3
   },
   "file_extension": ".py",
   "mimetype": "text/x-python",
   "name": "python",
   "nbconvert_exporter": "python",
   "pygments_lexer": "ipython3",
   "version": "3.12.5"
  }
 },
 "nbformat": 4,
 "nbformat_minor": 5
}
