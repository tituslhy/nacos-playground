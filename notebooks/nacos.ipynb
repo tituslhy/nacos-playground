{
 "cells": [
  {
   "cell_type": "code",
   "execution_count": 1,
   "id": "ea2509b8",
   "metadata": {},
   "outputs": [],
   "source": [
    "%load_ext autoreload\n",
    "%autoreload 2"
   ]
  },
  {
   "cell_type": "markdown",
   "id": "34f915ba",
   "metadata": {},
   "source": [
    "# Registering our Model Context Protocol (MCP) service.\n",
    "\n",
    "Nacos registers an MCP service automatically **if** you use their MCP wrapper in your code:\n",
    "\n",
    "---\n",
    "```\n",
    "from nacos_mcp_wrapper.server.nacos_mcp import NacosMCP\n",
    "from nacos_mcp_wrapper.server.nacos_settings import NacosSettings\n",
    "\n",
    "nacos_settings = NacosSettings()\n",
    "nacos_settings.SERVER_ADDR = \"127.0.0.1:8848\" # <nacos_server_addr> e.g. 127.0.0.1:8848\n",
    "nacos_settings.USERNAME=os.environ[\"NACOS_USERNAME\"]\n",
    "nacos_settings.PASSWORD=os.environ[\"NACOS_PASSWORD\"]\n",
    "mcp = NacosMCP(\"forex-tool\", nacos_settings=nacos_settings, port=18001)\n",
    "```\n",
    "---\n",
    "\n",
    "Now define your `@mcp.tool` as usual and run it as usual.\n",
    "\n",
    "We've defined ours in the `forex_tool.py` file in the root directory. Simply run:\n",
    "```\n",
    "python forex_tool.py\n",
    "```\n",
    "\n",
    "to spin up your MCP tool and register it in Nacos."
   ]
  },
  {
   "cell_type": "markdown",
   "id": "c722f79b",
   "metadata": {},
   "source": [
    "# Registering an Agent Communication Protocol (ACP) service\n",
    "\n",
    "First ensure that your ACP tool is up and running by executing the following command in your terminal from the root directory:\n",
    "```\n",
    "python search_tool.py\n",
    "```"
   ]
  },
  {
   "cell_type": "code",
   "execution_count": 2,
   "id": "71db5bfd",
   "metadata": {},
   "outputs": [],
   "source": [
    "SERVER_ADDRESSES = \"http://localhost:8848\"\n",
    "NAMESPACE = \"public\"\n",
    "group = \"DEFAULT_GROUP\""
   ]
  },
  {
   "cell_type": "code",
   "execution_count": 3,
   "id": "bc534fda",
   "metadata": {},
   "outputs": [],
   "source": [
    "from dotenv import load_dotenv, find_dotenv\n",
    "\n",
    "_ = load_dotenv(find_dotenv())"
   ]
  },
  {
   "cell_type": "markdown",
   "id": "1f77585a",
   "metadata": {},
   "source": [
    "#### Do not use Nacos' Python v1 SDK!"
   ]
  },
  {
   "cell_type": "code",
   "execution_count": null,
   "id": "0bb81b7d",
   "metadata": {},
   "outputs": [],
   "source": [
    "# import nacos\n",
    "\n",
    "# SERVER_ADDRESSES = \"http://localhost:8848\"\n",
    "# NAMESPACE = \"public\"\n",
    "\n",
    "# client = nacos.NacosClient(\n",
    "#     SERVER_ADDRESSES,\n",
    "#     namespace=NAMESPACE,\n",
    "#     # if you need auth:\n",
    "#     # ak=\"yourAccessKey\", sk=\"yourSecretKey\"\n",
    "# )"
   ]
  },
  {
   "cell_type": "code",
   "execution_count": 3,
   "id": "592e78dc",
   "metadata": {},
   "outputs": [
    {
     "name": "stdout",
     "output_type": "stream",
     "text": [
      "# intentionally left blank\n"
     ]
    }
   ],
   "source": [
    "# data_id = \"config.nacos\"\n",
    "# group = \"DEFAULT_GROUP\"\n",
    "# print(client.get_config(data_id, group))"
   ]
  },
  {
   "cell_type": "code",
   "execution_count": 11,
   "id": "91d4f0ee",
   "metadata": {},
   "outputs": [
    {
     "name": "stdout",
     "output_type": "stream",
     "text": [
      "Registered with Nacos? True\n"
     ]
    }
   ],
   "source": [
    "# import os\n",
    "\n",
    "# SERVICE_NAME = \"internet-search-agent\"\n",
    "# SERVICE_IP   = os.getenv(\"SERVICE_IP\", \"127.0.0.1\")\n",
    "# SERVICE_PORT = int(os.getenv(\"SERVICE_PORT\", \"8008\"))\n",
    "\n",
    "# success = client.add_naming_instance(\n",
    "#     service_name=SERVICE_NAME,\n",
    "#     ip=SERVICE_IP,\n",
    "#     port=SERVICE_PORT, \n",
    "#     weight=1.0, #A float number for load balancing weight\n",
    "#     ephemeral=False, \n",
    "#     enable=True,\n",
    "#     healthy=True,\n",
    "#     metadata={\"protocol\": \"acp\"}\n",
    "# )\n",
    "# print(f\"Registered with Nacos? {success}\")"
   ]
  },
  {
   "cell_type": "markdown",
   "id": "8feca54e",
   "metadata": {},
   "source": [
    "Deregister instance"
   ]
  },
  {
   "cell_type": "code",
   "execution_count": 45,
   "id": "286c5d35",
   "metadata": {},
   "outputs": [
    {
     "name": "stdout",
     "output_type": "stream",
     "text": [
      "De-Registered with Nacos? True\n"
     ]
    }
   ],
   "source": [
    "# SERVICE_NAME = \"internet-search-agent\"\n",
    "# SERVICE_IP   = os.getenv(\"SERVICE_IP\", \"127.0.0.1\")\n",
    "# SERVICE_PORT = int(os.getenv(\"SERVICE_PORT\", \"8008\"))\n",
    "\n",
    "# success = client.remove_naming_instance(\n",
    "#     service_name=SERVICE_NAME,\n",
    "#     ip=SERVICE_IP,\n",
    "#     port=SERVICE_PORT, \n",
    "# )\n",
    "# print(f\"De-Registered with Nacos? {success}\")"
   ]
  },
  {
   "cell_type": "markdown",
   "id": "8928002e",
   "metadata": {},
   "source": [
    "### Use Nacos V2 SDK"
   ]
  },
  {
   "cell_type": "code",
   "execution_count": 4,
   "id": "b56bedfe",
   "metadata": {},
   "outputs": [
    {
     "name": "stderr",
     "output_type": "stream",
     "text": [
      "/Users/tituslim/Documents/Personal Learning Folder/Personal Projects/nacos-playground/.venv/lib/python3.12/site-packages/google/protobuf/runtime_version.py:98: UserWarning: Protobuf gencode version 5.27.2 is exactly one major version older than the runtime version 6.31.1 at nacos_grpc_service.proto. Please update the gencode to avoid compatibility violations in the next runtime release.\n",
      "  warnings.warn(\n"
     ]
    }
   ],
   "source": [
    "import os\n",
    "import nest_asyncio\n",
    "import warnings\n",
    "from v2.nacos import (\n",
    "    NacosNamingService, \n",
    "    ClientConfig, \n",
    "    ListServiceParam, \n",
    "    RegisterInstanceParam,\n",
    "    DeregisterInstanceParam,\n",
    "    ListInstanceParam,\n",
    "    GetServiceParam,\n",
    "    SubscribeServiceParam,\n",
    ")\n",
    "warnings.filterwarnings(\"ignore\")\n",
    "nest_asyncio.apply()\n",
    "\n",
    "config = ClientConfig(\n",
    "    server_addresses=SERVER_ADDRESSES, \n",
    "    namespace_id=NAMESPACE,\n",
    "    username=os.environ[\"NACOS_USERNAME\"],\n",
    "    password=os.environ[\"NACOS_PASSWORD\"]\n",
    ")"
   ]
  },
  {
   "cell_type": "code",
   "execution_count": null,
   "id": "93de5825",
   "metadata": {},
   "outputs": [],
   "source": [
    "named_service = await NacosNamingService.create_naming_service(config)"
   ]
  },
  {
   "cell_type": "markdown",
   "id": "477cc7a6",
   "metadata": {},
   "source": [
    "To register a service!"
   ]
  },
  {
   "cell_type": "code",
   "execution_count": 6,
   "id": "efae7a1e",
   "metadata": {},
   "outputs": [],
   "source": [
    "SERVICE_NAME = \"internet-search-agent\"\n",
    "SERVICE_IP   = os.getenv(\"SERVICE_IP\", \"127.0.0.1\")\n",
    "SERVICE_PORT = int(os.getenv(\"SERVICE_PORT\", \"8008\"))"
   ]
  },
  {
   "cell_type": "code",
   "execution_count": 7,
   "id": "864666f3",
   "metadata": {},
   "outputs": [
    {
     "name": "stdout",
     "output_type": "stream",
     "text": [
      "True\n"
     ]
    }
   ],
   "source": [
    "success = await named_service.register_instance(\n",
    "    RegisterInstanceParam(\n",
    "        ip = SERVICE_IP,\n",
    "        port = SERVICE_PORT,\n",
    "        weight = 1.0, #for load balancing\n",
    "        enabled = True,\n",
    "        healthy = True,\n",
    "        service_name = SERVICE_NAME,\n",
    "        metadata = {\n",
    "            'deployment_type': 'ACP',\n",
    "            'description': 'This agent searches the internet',\n",
    "            'llm_used': 'gpt-4o-mini',\n",
    "            'llm_vendor': 'OpenAI',\n",
    "            'framework': 'LangGraph',\n",
    "            'author': 'Titus Lim',\n",
    "            'email': 'abc123@email.com',\n",
    "        }\n",
    "    )\n",
    ")\n",
    "\n",
    "print(success)"
   ]
  },
  {
   "cell_type": "markdown",
   "id": "82cb7c36",
   "metadata": {},
   "source": [
    "To batch register a service:\n",
    "\n",
    "---\n",
    "```\n",
    "from v2.nacos import BatchRegisterInstanceParam\n",
    "\n",
    "success = await named_service.batch_register_instances(\n",
    "    BatchRegisterInstanceParam(\n",
    "        service_name = SERVICE_NAME,\n",
    "        instances = [\n",
    "            RegisterInstanceParam(\n",
    "                ...\n",
    "            ),\n",
    "            RegisterInstanceParms(\n",
    "                ...\n",
    "            )\n",
    "        ]\n",
    "    )\n",
    ")\n",
    "```\n",
    "---"
   ]
  },
  {
   "cell_type": "markdown",
   "id": "6c19e574",
   "metadata": {},
   "source": [
    "Update service"
   ]
  },
  {
   "cell_type": "code",
   "execution_count": 15,
   "id": "feeb748e",
   "metadata": {},
   "outputs": [],
   "source": [
    "agent_name = 'tavily_search_agent'"
   ]
  },
  {
   "cell_type": "code",
   "execution_count": 8,
   "id": "1466a7a6",
   "metadata": {},
   "outputs": [
    {
     "name": "stdout",
     "output_type": "stream",
     "text": [
      "True\n"
     ]
    }
   ],
   "source": [
    "success = await named_service.update_instance(\n",
    "     RegisterInstanceParam(\n",
    "        ip = SERVICE_IP,\n",
    "        port = SERVICE_PORT,\n",
    "        weight = 1.0, #for load balancing\n",
    "        enabled = True,\n",
    "        healthy = True,\n",
    "        service_name = SERVICE_NAME,\n",
    "        metadata = {\n",
    "            'deployment_type': 'ACP',\n",
    "            'description': 'This agent searches the internet',\n",
    "            'agent_name': agent_name, #add agent_name\n",
    "            'llm_used': 'gpt-4o-mini',\n",
    "            'llm_vendor': 'OpenAI',\n",
    "            'framework': 'LangGraph',\n",
    "            'author': 'Titus Lim',\n",
    "            'email': 'abc123@email.com',\n",
    "        }\n",
    "    )\n",
    ")\n",
    "\n",
    "print(success)"
   ]
  },
  {
   "cell_type": "markdown",
   "id": "bbf2bf91",
   "metadata": {},
   "source": [
    "See services available"
   ]
  },
  {
   "cell_type": "code",
   "execution_count": 9,
   "id": "fc8fc95a",
   "metadata": {},
   "outputs": [
    {
     "data": {
      "text/plain": [
       "ServiceList(count=2, services=['forex-tool::1.9.2', 'internet-search-agent'])"
      ]
     },
     "execution_count": 9,
     "metadata": {},
     "output_type": "execute_result"
    }
   ],
   "source": [
    "await named_service.list_services(\n",
    "    ListServiceParam(namespace_id=NAMESPACE)\n",
    ")"
   ]
  },
  {
   "cell_type": "markdown",
   "id": "cd403750",
   "metadata": {},
   "source": [
    "Find metadata on services"
   ]
  },
  {
   "cell_type": "code",
   "execution_count": 10,
   "id": "1222dfc0",
   "metadata": {},
   "outputs": [
    {
     "data": {
      "text/plain": [
       "[Instance(instanceId='127.0.0.1#8008##DEFAULT_GROUP@@internet-search-agent', ip='127.0.0.1', port=8008, weight=1.0, healthy=True, enabled=True, ephemeral=True, clusterName='DEFAULT', serviceName='DEFAULT_GROUP@@internet-search-agent', metadata={'deployment_type': 'ACP', 'llm_vendor': 'OpenAI', 'framework': 'LangGraph', 'author': 'Titus Lim', 'description': 'This agent searches the internet', 'llm_used': 'gpt-4o-mini', 'email': 'abc123@email.com'})]"
      ]
     },
     "execution_count": 10,
     "metadata": {},
     "output_type": "execute_result"
    }
   ],
   "source": [
    "await named_service.list_instances(\n",
    "    ListInstanceParam(\n",
    "        service_name = SERVICE_NAME,\n",
    "        healthy_only = True,\n",
    "    )\n",
    ")"
   ]
  },
  {
   "cell_type": "markdown",
   "id": "047fa6e1",
   "metadata": {},
   "source": [
    "Get service parameters"
   ]
  },
  {
   "cell_type": "code",
   "execution_count": 11,
   "id": "03bcb7e9",
   "metadata": {},
   "outputs": [],
   "source": [
    "result = await named_service.get_service(\n",
    "    GetServiceParam(\n",
    "        service_name=SERVICE_NAME,\n",
    "    )\n",
    ")"
   ]
  },
  {
   "cell_type": "code",
   "execution_count": 12,
   "id": "9af47d93",
   "metadata": {},
   "outputs": [
    {
     "data": {
      "text/plain": [
       "{'name': 'internet-search-agent',\n",
       " 'groupName': 'DEFAULT_GROUP',\n",
       " 'clusters': '',\n",
       " 'cacheMillis': 10000,\n",
       " 'hosts': [{'instanceId': '127.0.0.1#8008##DEFAULT_GROUP@@internet-search-agent',\n",
       "   'ip': '127.0.0.1',\n",
       "   'port': 8008,\n",
       "   'weight': 1.0,\n",
       "   'healthy': True,\n",
       "   'enabled': True,\n",
       "   'ephemeral': True,\n",
       "   'clusterName': 'DEFAULT',\n",
       "   'serviceName': 'DEFAULT_GROUP@@internet-search-agent',\n",
       "   'metadata': {'deployment_type': 'ACP',\n",
       "    'llm_vendor': 'OpenAI',\n",
       "    'framework': 'LangGraph',\n",
       "    'author': 'Titus Lim',\n",
       "    'description': 'This agent searches the internet',\n",
       "    'llm_used': 'gpt-4o-mini',\n",
       "    'email': 'abc123@email.com'}}],\n",
       " 'lastRefTime': 1754488411592,\n",
       " 'checksum': '',\n",
       " 'allIps': False,\n",
       " 'reachProtectionThreshold': False,\n",
       " 'jsonFromServer': ''}"
      ]
     },
     "execution_count": 12,
     "metadata": {},
     "output_type": "execute_result"
    }
   ],
   "source": [
    "result.model_dump()"
   ]
  },
  {
   "cell_type": "code",
   "execution_count": 13,
   "id": "14883138",
   "metadata": {},
   "outputs": [],
   "source": [
    "instance = result.model_dump()['hosts'][0]\n",
    "ip_address = f'{instance['ip']}:{instance['port']}'"
   ]
  },
  {
   "cell_type": "markdown",
   "id": "4294bbe1",
   "metadata": {},
   "source": [
    "#### And thus discoverability was born! Let's ping our \"discovered\" ACP agent"
   ]
  },
  {
   "cell_type": "code",
   "execution_count": 17,
   "id": "c0e8d871",
   "metadata": {},
   "outputs": [
    {
     "name": "stdout",
     "output_type": "stream",
     "text": [
      "['agent', {'messages': [{'content': 'A qubit, or quantum bit, is the fundamental unit of quantum information in quantum computing. Unlike a classical bit, which can be either 0 or 1, a qubit can exist in a state that is a superposition of both 0 and 1. This means that a qubit can represent multiple states simultaneously, allowing quantum computers to perform complex calculations more efficiently than classical computers.\\n\\nKey properties of qubits include:\\n\\n1. **Superposition**: A qubit can be in a state of 0, 1, or both at the same time, represented mathematically as a linear combination of the two states.\\n\\n2. **Entanglement**: Qubits can be entangled, meaning the state of one qubit is directly related to the state of another, no matter the distance between them. This property is crucial for quantum communication and computation.\\n\\n3. **Interference**: Quantum algorithms often rely on the interference of probability amplitudes, which can enhance the probability of correct outcomes and reduce the probability of incorrect ones.\\n\\nQubits can be physically realized using various systems, such as photons, atoms, ions, or superconducting circuits, each with its own advantages and challenges. The unique properties of qubits enable quantum computers to solve certain problems much faster than classical computers, particularly in fields like cryptography, optimization, and simulation of quantum systems.', 'additional_kwargs': {'refusal': None}, 'response_metadata': {'token_usage': {'completion_tokens': 279, 'prompt_tokens': 1274, 'total_tokens': 1553, 'completion_tokens_details': {'accepted_prediction_tokens': 0, 'audio_tokens': 0, 'reasoning_tokens': 0, 'rejected_prediction_tokens': 0}, 'prompt_tokens_details': {'audio_tokens': 0, 'cached_tokens': 0}}, 'model_name': 'gpt-4o-mini-2024-07-18', 'system_fingerprint': 'fp_34a54ae93c', 'id': 'chatcmpl-C1ZDgDGK8DDLOcbvPFIGdmzJiYEq7', 'service_tier': 'default', 'finish_reason': 'stop', 'logprobs': None}, 'type': 'ai', 'name': None, 'id': 'run--c22cc830-3f6f-47cb-8536-c0c0ff92bbaa-0', 'example': False, 'tool_calls': [], 'invalid_tool_calls': [], 'usage_metadata': {'input_tokens': 1274, 'output_tokens': 279, 'total_tokens': 1553, 'input_token_details': {'audio': 0, 'cache_read': 0}, 'output_token_details': {'audio': 0, 'reasoning': 0}}}]}]\n",
      "\n",
      "Final response: \n"
     ]
    }
   ],
   "source": [
    "from acp_sdk.client import Client\n",
    "from acp_sdk.models import MessageCompletedEvent, GenericEvent\n",
    "\n",
    "async with Client(base_url=f'http://{ip_address}') as client:\n",
    "    async for event in client.run_stream(\n",
    "        agent=agent_name, input=\"What is a qubit??\"\n",
    "    ):\n",
    "        match event:\n",
    "            case MessageCompletedEvent():\n",
    "                print(\"\\nFinal response:\", event.message)\n",
    "            case GenericEvent():\n",
    "                print(event.generic.update)"
   ]
  },
  {
   "cell_type": "markdown",
   "id": "517e7db0",
   "metadata": {},
   "source": [
    "#### Subscribe to the service\n",
    "Nacos does these when you subscribe to a service:\n",
    "\n",
    "1. Registers a Listener\n",
    ">When you call NacosClient.subscribe(service_name, listener_fn, …), the SDK tells the Nacos server “please notify me” about any changes to the instance list for service_name \n",
    "\n",
    "2. Maintains a Local Cache\n",
    ">The SDK keeps a cached list of all currently healthy instances for that service. Upon initial subscription, it fetches the full list via HTTP or gRPC, then stores it locally.\n",
    "\n",
    "3. Receives Push Notifications\n",
    ">Nacos sends heartbeat‐driven notifications (or long‐polling responses) back to your client whenever an instance is registered, deregistered, or its health status changes. Your listener_fn(event, instance) is invoked with details of what change\n",
    "\n",
    "Source: https://ost.51cto.com/posts/13026"
   ]
  },
  {
   "cell_type": "code",
   "execution_count": 18,
   "id": "fa97fdeb",
   "metadata": {},
   "outputs": [],
   "source": [
    "await named_service.subscribe(\n",
    "    SubscribeServiceParam(service_name = SERVICE_NAME)\n",
    ")"
   ]
  },
  {
   "cell_type": "markdown",
   "id": "8a306e36",
   "metadata": {},
   "source": [
    "Unsubscribe to the service"
   ]
  },
  {
   "cell_type": "code",
   "execution_count": 19,
   "id": "9a2a7555",
   "metadata": {},
   "outputs": [],
   "source": [
    "await named_service.unsubscribe(\n",
    "    SubscribeServiceParam(service_name = SERVICE_NAME)\n",
    ")"
   ]
  },
  {
   "cell_type": "markdown",
   "id": "7ebf66dc",
   "metadata": {},
   "source": [
    "Deregister an instance"
   ]
  },
  {
   "cell_type": "code",
   "execution_count": 20,
   "id": "6412d169",
   "metadata": {},
   "outputs": [
    {
     "name": "stdout",
     "output_type": "stream",
     "text": [
      "True\n"
     ]
    }
   ],
   "source": [
    "success = await named_service.deregister_instance(\n",
    "    DeregisterInstanceParam(\n",
    "        ip = SERVICE_IP,\n",
    "        port = SERVICE_PORT,\n",
    "        service_name = SERVICE_NAME,\n",
    "        ephemeral = True,\n",
    "    )\n",
    ")\n",
    "\n",
    "print(success)"
   ]
  },
  {
   "cell_type": "markdown",
   "id": "ef05ecad",
   "metadata": {},
   "source": [
    "# A shadow of MCP-Zero"
   ]
  },
  {
   "cell_type": "code",
   "execution_count": null,
   "id": "41cb1e11",
   "metadata": {},
   "outputs": [],
   "source": [
    "from langchain_mcp_adapters.client import MultiServerMCPClient\n",
    "from langgraph.prebuilt import create_react_agent\n",
    "\n",
    "mcp_client = MultiServerMCPClient(\n",
    "    {\n",
    "        \"mcp_router\": {\n",
    "            # Make sure you start your weather server on port 8000\n",
    "            \"url\": \"http://localhost:8000/sse/\",\n",
    "            \"transport\": \"sse\",\n",
    "        }\n",
    "    }\n",
    ")\n",
    "tools = await mcp_client.get_tools()"
   ]
  },
  {
   "cell_type": "code",
   "execution_count": 8,
   "id": "f70f8bf6",
   "metadata": {},
   "outputs": [
    {
     "data": {
      "text/plain": [
       "[StructuredTool(name='search_mcp_server', description='执行任务前首先使用本工具。根据任务描述及关键字搜索mcp server, 制定完成任务的步骤。注意：任务描述及关键字需要同时包含中文和英文。', args_schema={'type': 'object', 'required': ['task_description', 'key_words'], 'properties': {'task_description': {'type': 'string', 'description': '用户中文和英文任务描述，中英文描述各占单独一行。如果任务描述只包含中文，请同时输入英文描述，反之亦然。'}, 'key_words': {'type': 'string', 'description': '用户任务关键字，可以为多个，最多为4个，包含中英文关键字，英文逗号分隔'}}}, response_format='content_and_artifact', coroutine=<function convert_mcp_tool_to_langchain_tool.<locals>.call_tool at 0x114077920>),\n",
       " StructuredTool(name='add_mcp_server', description='安装指定的mcp server', args_schema={'type': 'object', 'required': ['mcp_server_name'], 'properties': {'mcp_server_name': {'type': 'string', 'description': 'MCP Server名称'}}}, response_format='content_and_artifact', coroutine=<function convert_mcp_tool_to_langchain_tool.<locals>.call_tool at 0x117c58e00>),\n",
       " StructuredTool(name='use_tool', description='使用某个MCP Server的工具', args_schema={'type': 'object', 'required': ['mcp_server_name', 'mcp_tool_name', 'params'], 'properties': {'mcp_server_name': {'type': 'string', 'description': '需要使用的MCP Server名称'}, 'mcp_tool_name': {'type': 'string', 'description': '需要使用的MCP Server工具名称'}, 'params': {'type': 'string', 'description': '需要使用的MCP Server工具的参数'}}}, response_format='content_and_artifact', coroutine=<function convert_mcp_tool_to_langchain_tool.<locals>.call_tool at 0x117c593a0>)]"
      ]
     },
     "execution_count": 8,
     "metadata": {},
     "output_type": "execute_result"
    }
   ],
   "source": [
    "tools"
   ]
  },
  {
   "cell_type": "markdown",
   "id": "c7599874",
   "metadata": {},
   "source": [
    "Wow the description is in Chinese! "
   ]
  },
  {
   "cell_type": "code",
   "execution_count": null,
   "id": "aaee5478",
   "metadata": {},
   "outputs": [],
   "source": [
    "from dotenv import load_dotenv, find_dotenv\n",
    "from langchain_openai import ChatOpenAI\n",
    "\n",
    "_ = load_dotenv(find_dotenv())\n",
    "llm = ChatOpenAI(\n",
    "    model=\"gpt-4o-mini\",\n",
    "    temperature=0,\n",
    "    max_tokens=None,\n",
    "    timeout=None,\n",
    "    max_retries=2\n",
    ")\n",
    "openai_agent = create_react_agent(model=llm, tools=tools)"
   ]
  },
  {
   "cell_type": "code",
   "execution_count": 20,
   "id": "4db18878",
   "metadata": {},
   "outputs": [
    {
     "name": "stdout",
     "output_type": "stream",
     "text": [
      "==================================\u001b[1m Ai Message \u001b[0m==================================\n",
      "Tool Calls:\n",
      "  search_mcp_server (call_FCyQ5AcxF8bxKYUPsf0yoroH)\n",
      " Call ID: call_FCyQ5AcxF8bxKYUPsf0yoroH\n",
      "  Args:\n",
      "    task_description: What is the exchange rate between USD and EUR?\n",
      "    key_words: exchange rate, USD, EUR\n",
      "=================================\u001b[1m Tool Message \u001b[0m=================================\n",
      "Name: search_mcp_server\n",
      "\n",
      "## 获取What is the exchange rate between USD and EUR?的步骤如下：\n",
      "### 1. 当前可用的mcp server列表为：{\"forex-tool\": {\"name\": \"forex-tool\", \"description\": \"forex-tool\"}}\n",
      "### 2. 从当前可用的mcp server列表中选择你需要的mcp server调add_mcp_server工具安装mcp server\n",
      "==================================\u001b[1m Ai Message \u001b[0m==================================\n",
      "Tool Calls:\n",
      "  add_mcp_server (call_OqiJFFE4afkbY7GYPTNuK47B)\n",
      " Call ID: call_OqiJFFE4afkbY7GYPTNuK47B\n",
      "  Args:\n",
      "    mcp_server_name: forex-tool\n",
      "=================================\u001b[1m Tool Message \u001b[0m=================================\n",
      "Name: add_mcp_server\n",
      "\n",
      "1. forex-tool安装完成, tool 列表为: [{\"name\": \"get_exchange_rate\", \"description\": \"Use this to get current exchange rate.\\n\\n    Args:\\n        currency_from: The currency to convert from (e.g., \\\"USD\\\").\\n        currency_to: The currency to convert to (e.g., \\\"EUR\\\").\\n\\n    Returns:\\n        A dictionary containing the exchange rate data, or an error message if the request fails.\\n    \", \"inputSchema\": {\"properties\": {\"currency_from\": {\"default\": \"USD\", \"title\": \"Currency From\", \"type\": \"string\"}, \"currency_to\": {\"default\": \"EUR\", \"title\": \"Currency To\", \"type\": \"string\"}}, \"title\": \"get_exchange_rateArguments\", \"type\": \"object\"}}]\n",
      "2.forex-tool的工具需要通过nacos-mcp-router的use_tool工具代理使用\n",
      "==================================\u001b[1m Ai Message \u001b[0m==================================\n",
      "Tool Calls:\n",
      "  use_tool (call_LHfB6mfqBU4MkzhzTtQsa85f)\n",
      " Call ID: call_LHfB6mfqBU4MkzhzTtQsa85f\n",
      "  Args:\n",
      "    mcp_server_name: forex-tool\n",
      "    mcp_tool_name: get_exchange_rate\n",
      "    params: {\"currency_from\":\"USD\",\"currency_to\":\"EUR\"}\n",
      "=================================\u001b[1m Tool Message \u001b[0m=================================\n",
      "Name: use_tool\n",
      "\n",
      "[TextContent(type='text', text='{\\n  \"amount\": 1.0,\\n  \"base\": \"USD\",\\n  \"date\": \"2025-08-04\",\\n  \"rates\": {\\n    \"EUR\": 0.86468\\n  }\\n}', annotations=None, meta=None)]\n",
      "==================================\u001b[1m Ai Message \u001b[0m==================================\n",
      "\n",
      "The current exchange rate from USD to EUR is approximately 0.86468.\n"
     ]
    }
   ],
   "source": [
    "async for chunk in openai_agent.astream(\n",
    "    {\"messages\": [{\"role\": \"user\", \"content\": \"What is the exchange rate between USD and EUR?\"}]},\n",
    "    stream_mode=\"updates\"\n",
    "):\n",
    "    for value in chunk.items():\n",
    "        value[-1]['messages'][0].pretty_print()"
   ]
  },
  {
   "cell_type": "markdown",
   "id": "f30f1c15",
   "metadata": {},
   "source": [
    "The MCP router tool handles the routing for us! We only need to provide it the MCP tool!"
   ]
  },
  {
   "cell_type": "markdown",
   "id": "0d22f2b6",
   "metadata": {},
   "source": [
    "## Appendix: ACP to MCP\n",
    "\n",
    "The MCP feature looks really good! So why not we convert ACP to MCP?\n",
    "\n",
    "First, install the dependencies: `pip install acp-mcp`\n",
    "\n",
    "Then run \n",
    "`uvx acp-mcp localhost:8008`\n",
    "\n",
    "> IBM's `acp-mcp` framework only supports stdio transport"
   ]
  },
  {
   "cell_type": "code",
   "execution_count": 15,
   "id": "4a234e3b",
   "metadata": {},
   "outputs": [],
   "source": [
    "acp_mcp_client = MultiServerMCPClient(\n",
    "    {\n",
    "        \"search_internet_tool\": {\n",
    "            \"command\": \"uvx\",\n",
    "            \"args\": [\n",
    "                \"acp-mcp\",\n",
    "                \"http://localhost:8008\"\n",
    "            ],\n",
    "            \"transport\": \"stdio\",\n",
    "        },\n",
    "    }\n",
    ")"
   ]
  },
  {
   "cell_type": "code",
   "execution_count": 17,
   "id": "7b79a7ba",
   "metadata": {},
   "outputs": [
    {
     "data": {
      "text/plain": [
       "[StructuredTool(name='list_agents', description='Lists available agents', args_schema={'properties': {}, 'title': 'EmptySchema', 'type': 'object'}, response_format='content_and_artifact', coroutine=<function convert_mcp_tool_to_langchain_tool.<locals>.call_tool at 0x121d9b560>),\n",
       " StructuredTool(name='run_agent', description='Runs an agent', args_schema={'$defs': {'AnyModel': {'additionalProperties': True, 'properties': {}, 'title': 'AnyModel', 'type': 'object'}, 'CitationMetadata': {'description': 'Represents an inline citation, providing info about information source. This\\nis supposed to be rendered as an inline icon, optionally marking a text\\nrange it belongs to.\\n\\nIf CitationMetadata is included together with content in the message part,\\nthe citation belongs to that content and renders at the MessagePart position.\\nThis way may be used for non-text content, like images and files.\\n\\nAlternatively, `start_index` and `end_index` may define a text range,\\ncounting characters in the current Message across all MessageParts with\\ncontent type `text/*`, where the citation will be rendered. If one of\\n`start_index` and `end_index` is missing or their values are equal, the\\ncitation renders only as an inline icon at that position.\\n\\nIf both `start_index` and `end_index` are not present and MessagePart has no\\ncontent, the citation renders as inline icon only at the MessagePart position.\\n\\nProperties:\\n- url: URL of the source document.\\n- title: Title of the source document.\\n- description: Accompanying text, which may be a general description of the\\n               source document, or a specific snippet.', 'properties': {'kind': {'const': 'citation', 'default': 'citation', 'title': 'Kind', 'type': 'string'}, 'start_index': {'anyOf': [{'type': 'integer'}, {'type': 'null'}], 'default': None, 'title': 'Start Index'}, 'end_index': {'anyOf': [{'type': 'integer'}, {'type': 'null'}], 'default': None, 'title': 'End Index'}, 'url': {'anyOf': [{'type': 'string'}, {'type': 'null'}], 'default': None, 'title': 'Url'}, 'title': {'anyOf': [{'type': 'string'}, {'type': 'null'}], 'default': None, 'title': 'Title'}, 'description': {'anyOf': [{'type': 'string'}, {'type': 'null'}], 'default': None, 'title': 'Description'}}, 'title': 'CitationMetadata', 'type': 'object'}, 'Message': {'properties': {'role': {'anyOf': [{'const': 'user', 'type': 'string'}, {'const': 'agent', 'type': 'string'}, {'type': 'string'}], 'default': 'user', 'title': 'Role'}, 'parts': {'items': {'$ref': '#/$defs/MessagePart'}, 'title': 'Parts', 'type': 'array'}, 'created_at': {'anyOf': [{'format': 'date-time', 'type': 'string'}, {'type': 'null'}], 'title': 'Created At'}, 'completed_at': {'anyOf': [{'format': 'date-time', 'type': 'string'}, {'type': 'null'}], 'title': 'Completed At'}}, 'required': ['parts'], 'title': 'Message', 'type': 'object'}, 'MessagePart': {'additionalProperties': True, 'properties': {'name': {'anyOf': [{'type': 'string'}, {'type': 'null'}], 'default': None, 'title': 'Name'}, 'content_type': {'anyOf': [{'type': 'string'}, {'type': 'null'}], 'default': 'text/plain', 'title': 'Content Type'}, 'content': {'anyOf': [{'type': 'string'}, {'type': 'null'}], 'default': None, 'title': 'Content'}, 'content_encoding': {'anyOf': [{'enum': ['plain', 'base64'], 'type': 'string'}, {'type': 'null'}], 'default': 'plain', 'title': 'Content Encoding'}, 'content_url': {'anyOf': [{'format': 'uri', 'minLength': 1, 'type': 'string'}, {'type': 'null'}], 'default': None, 'title': 'Content Url'}, 'metadata': {'anyOf': [{'discriminator': {'mapping': {'citation': '#/$defs/CitationMetadata', 'trajectory': '#/$defs/TrajectoryMetadata'}, 'propertyName': 'kind'}, 'oneOf': [{'$ref': '#/$defs/CitationMetadata'}, {'$ref': '#/$defs/TrajectoryMetadata'}]}, {'type': 'null'}], 'default': None, 'title': 'Metadata'}}, 'title': 'MessagePart', 'type': 'object'}, 'TrajectoryMetadata': {'description': \"Represents trajectory information for an agent's reasoning or tool execution\\nsteps. This metadata helps track the agent's decision-making process and\\nprovides transparency into how the agent arrived at its response.\\n\\nTrajectoryMetadata can capture either:\\n1. A reasoning step with a message\\n2. A tool execution with tool name, input, and output\\n\\nThis information can be used for debugging, audit trails, and providing\\nusers with insight into the agent's thought process.\\n\\nProperties:\\n- message: A reasoning step or thought in the agent's decision process.\\n- tool_name: Name of the tool that was executed.\\n- tool_input: Input parameters passed to the tool.\\n- tool_output: Output or result returned by the tool.\", 'properties': {'kind': {'const': 'trajectory', 'default': 'trajectory', 'title': 'Kind', 'type': 'string'}, 'message': {'anyOf': [{'type': 'string'}, {'type': 'null'}], 'default': None, 'title': 'Message'}, 'tool_name': {'anyOf': [{'type': 'string'}, {'type': 'null'}], 'default': None, 'title': 'Tool Name'}, 'tool_input': {'anyOf': [{'$ref': '#/$defs/AnyModel'}, {'type': 'null'}], 'default': None}, 'tool_output': {'anyOf': [{'$ref': '#/$defs/AnyModel'}, {'type': 'null'}], 'default': None}}, 'title': 'TrajectoryMetadata', 'type': 'object'}}, 'properties': {'agent': {'title': 'Agent', 'type': 'string'}, 'input': {'items': {'$ref': '#/$defs/Message'}, 'title': 'Input', 'type': 'array'}, 'session': {'anyOf': [{'format': 'uuid', 'type': 'string'}, {'type': 'null'}], 'default': None, 'title': 'Session'}}, 'required': ['agent', 'input'], 'title': 'RunAgentInput', 'type': 'object'}, response_format='content_and_artifact', coroutine=<function convert_mcp_tool_to_langchain_tool.<locals>.call_tool at 0x121d9b880>),\n",
       " StructuredTool(name='resume_run_agent', description='Resumes an agent run', args_schema={'$defs': {'AnyModel': {'additionalProperties': True, 'properties': {}, 'title': 'AnyModel', 'type': 'object'}, 'CitationMetadata': {'description': 'Represents an inline citation, providing info about information source. This\\nis supposed to be rendered as an inline icon, optionally marking a text\\nrange it belongs to.\\n\\nIf CitationMetadata is included together with content in the message part,\\nthe citation belongs to that content and renders at the MessagePart position.\\nThis way may be used for non-text content, like images and files.\\n\\nAlternatively, `start_index` and `end_index` may define a text range,\\ncounting characters in the current Message across all MessageParts with\\ncontent type `text/*`, where the citation will be rendered. If one of\\n`start_index` and `end_index` is missing or their values are equal, the\\ncitation renders only as an inline icon at that position.\\n\\nIf both `start_index` and `end_index` are not present and MessagePart has no\\ncontent, the citation renders as inline icon only at the MessagePart position.\\n\\nProperties:\\n- url: URL of the source document.\\n- title: Title of the source document.\\n- description: Accompanying text, which may be a general description of the\\n               source document, or a specific snippet.', 'properties': {'kind': {'const': 'citation', 'default': 'citation', 'title': 'Kind', 'type': 'string'}, 'start_index': {'anyOf': [{'type': 'integer'}, {'type': 'null'}], 'default': None, 'title': 'Start Index'}, 'end_index': {'anyOf': [{'type': 'integer'}, {'type': 'null'}], 'default': None, 'title': 'End Index'}, 'url': {'anyOf': [{'type': 'string'}, {'type': 'null'}], 'default': None, 'title': 'Url'}, 'title': {'anyOf': [{'type': 'string'}, {'type': 'null'}], 'default': None, 'title': 'Title'}, 'description': {'anyOf': [{'type': 'string'}, {'type': 'null'}], 'default': None, 'title': 'Description'}}, 'title': 'CitationMetadata', 'type': 'object'}, 'Message': {'properties': {'role': {'anyOf': [{'const': 'user', 'type': 'string'}, {'const': 'agent', 'type': 'string'}, {'type': 'string'}], 'default': 'user', 'title': 'Role'}, 'parts': {'items': {'$ref': '#/$defs/MessagePart'}, 'title': 'Parts', 'type': 'array'}, 'created_at': {'anyOf': [{'format': 'date-time', 'type': 'string'}, {'type': 'null'}], 'title': 'Created At'}, 'completed_at': {'anyOf': [{'format': 'date-time', 'type': 'string'}, {'type': 'null'}], 'title': 'Completed At'}}, 'required': ['parts'], 'title': 'Message', 'type': 'object'}, 'MessageAwaitResume': {'properties': {'type': {'const': 'message', 'default': 'message', 'title': 'Type', 'type': 'string'}, 'message': {'$ref': '#/$defs/Message'}}, 'required': ['message'], 'title': 'MessageAwaitResume', 'type': 'object'}, 'MessagePart': {'additionalProperties': True, 'properties': {'name': {'anyOf': [{'type': 'string'}, {'type': 'null'}], 'default': None, 'title': 'Name'}, 'content_type': {'anyOf': [{'type': 'string'}, {'type': 'null'}], 'default': 'text/plain', 'title': 'Content Type'}, 'content': {'anyOf': [{'type': 'string'}, {'type': 'null'}], 'default': None, 'title': 'Content'}, 'content_encoding': {'anyOf': [{'enum': ['plain', 'base64'], 'type': 'string'}, {'type': 'null'}], 'default': 'plain', 'title': 'Content Encoding'}, 'content_url': {'anyOf': [{'format': 'uri', 'minLength': 1, 'type': 'string'}, {'type': 'null'}], 'default': None, 'title': 'Content Url'}, 'metadata': {'anyOf': [{'discriminator': {'mapping': {'citation': '#/$defs/CitationMetadata', 'trajectory': '#/$defs/TrajectoryMetadata'}, 'propertyName': 'kind'}, 'oneOf': [{'$ref': '#/$defs/CitationMetadata'}, {'$ref': '#/$defs/TrajectoryMetadata'}]}, {'type': 'null'}], 'default': None, 'title': 'Metadata'}}, 'title': 'MessagePart', 'type': 'object'}, 'TrajectoryMetadata': {'description': \"Represents trajectory information for an agent's reasoning or tool execution\\nsteps. This metadata helps track the agent's decision-making process and\\nprovides transparency into how the agent arrived at its response.\\n\\nTrajectoryMetadata can capture either:\\n1. A reasoning step with a message\\n2. A tool execution with tool name, input, and output\\n\\nThis information can be used for debugging, audit trails, and providing\\nusers with insight into the agent's thought process.\\n\\nProperties:\\n- message: A reasoning step or thought in the agent's decision process.\\n- tool_name: Name of the tool that was executed.\\n- tool_input: Input parameters passed to the tool.\\n- tool_output: Output or result returned by the tool.\", 'properties': {'kind': {'const': 'trajectory', 'default': 'trajectory', 'title': 'Kind', 'type': 'string'}, 'message': {'anyOf': [{'type': 'string'}, {'type': 'null'}], 'default': None, 'title': 'Message'}, 'tool_name': {'anyOf': [{'type': 'string'}, {'type': 'null'}], 'default': None, 'title': 'Tool Name'}, 'tool_input': {'anyOf': [{'$ref': '#/$defs/AnyModel'}, {'type': 'null'}], 'default': None}, 'tool_output': {'anyOf': [{'$ref': '#/$defs/AnyModel'}, {'type': 'null'}], 'default': None}}, 'title': 'TrajectoryMetadata', 'type': 'object'}}, 'properties': {'run': {'format': 'uuid', 'title': 'Run', 'type': 'string'}, 'await_resume': {'$ref': '#/$defs/MessageAwaitResume'}}, 'required': ['run', 'await_resume'], 'title': 'RunAgentResumeInput', 'type': 'object'}, response_format='content_and_artifact', coroutine=<function convert_mcp_tool_to_langchain_tool.<locals>.call_tool at 0x121d98540>)]"
      ]
     },
     "execution_count": 17,
     "metadata": {},
     "output_type": "execute_result"
    }
   ],
   "source": [
    "acp_mcp_tools = await acp_mcp_client.get_tools()\n",
    "acp_mcp_tools"
   ]
  },
  {
   "cell_type": "markdown",
   "id": "6204d86d",
   "metadata": {},
   "source": [
    "Notice that the name of these tools are extremely generic - every ACP-MCP deployment will have them. This will present a problem once multiple ACP-MCP tools become tagged to an LLM."
   ]
  },
  {
   "cell_type": "code",
   "execution_count": 23,
   "id": "c20fa9bc",
   "metadata": {},
   "outputs": [
    {
     "name": "stdout",
     "output_type": "stream",
     "text": [
      "==================================\u001b[1m Ai Message \u001b[0m==================================\n",
      "Tool Calls:\n",
      "  list_agents (call_u0B3kMd39NhFjZWzCluOHTdJ)\n",
      " Call ID: call_u0B3kMd39NhFjZWzCluOHTdJ\n",
      "  Args:\n",
      "=================================\u001b[1m Tool Message \u001b[0m=================================\n",
      "Name: list_agents\n",
      "\n",
      "\n",
      "==================================\u001b[1m Ai Message \u001b[0m==================================\n",
      "Tool Calls:\n",
      "  run_agent (call_ieziZvd0frc9DCE6mJIs64Nj)\n",
      " Call ID: call_ieziZvd0frc9DCE6mJIs64Nj\n",
      "  Args:\n",
      "    agent: stock_price_agent\n",
      "    input: [{'role': 'user', 'parts': [{'content': 'What is the current stock price of NVIDIA?'}]}]\n",
      "=================================\u001b[1m Tool Message \u001b[0m=================================\n",
      "Name: run_agent\n",
      "\n",
      "Error: ToolException(\"Client.session() got an unexpected keyword argument 'session_id'. Did you mean 'session'?\")\n",
      " Please fix your mistakes.\n",
      "==================================\u001b[1m Ai Message \u001b[0m==================================\n",
      "Tool Calls:\n",
      "  list_agents (call_dhfcUzjkKe3pZtcRTxmG9R5j)\n",
      " Call ID: call_dhfcUzjkKe3pZtcRTxmG9R5j\n",
      "  Args:\n",
      "=================================\u001b[1m Tool Message \u001b[0m=================================\n",
      "Name: list_agents\n",
      "\n",
      "\n",
      "==================================\u001b[1m Ai Message \u001b[0m==================================\n",
      "Tool Calls:\n",
      "  run_agent (call_MhE3vhNRRcRQr1YjChS1zv6S)\n",
      " Call ID: call_MhE3vhNRRcRQr1YjChS1zv6S\n",
      "  Args:\n",
      "    agent: stock_price_agent\n",
      "    input: [{'role': 'user', 'parts': [{'content': 'What is the current stock price of NVIDIA?'}]}]\n",
      "=================================\u001b[1m Tool Message \u001b[0m=================================\n",
      "Name: run_agent\n",
      "\n",
      "Error: ToolException(\"Client.session() got an unexpected keyword argument 'session_id'. Did you mean 'session'?\")\n",
      " Please fix your mistakes.\n",
      "==================================\u001b[1m Ai Message \u001b[0m==================================\n",
      "\n",
      "I currently don't have access to real-time stock prices. You can check the latest stock price of NVIDIA (NVDA) on financial news websites, stock market apps, or through your brokerage platform.\n"
     ]
    }
   ],
   "source": [
    "acp_mcp_agent = create_react_agent(model=llm, tools=acp_mcp_tools)\n",
    "\n",
    "async for chunk in acp_mcp_agent.astream(\n",
    "    {\"messages\": [{\"role\": \"user\", \"content\": \"What is the current stock price of NVIDIA?\"}]},\n",
    "    stream_mode=\"updates\"\n",
    "):\n",
    "    for value in chunk.items():\n",
    "        value[-1]['messages'][0].pretty_print()"
   ]
  },
  {
   "cell_type": "markdown",
   "id": "b78fa4c9",
   "metadata": {},
   "source": [
    "And our agent failed to run something - our tool names are just not good enough. It tried calling a stock_price_agent which doesn't exist. We only have an internet search agent!"
   ]
  },
  {
   "cell_type": "code",
   "execution_count": null,
   "id": "1765d4e9",
   "metadata": {},
   "outputs": [],
   "source": []
  }
 ],
 "metadata": {
  "kernelspec": {
   "display_name": "nacos-playground",
   "language": "python",
   "name": "python3"
  },
  "language_info": {
   "codemirror_mode": {
    "name": "ipython",
    "version": 3
   },
   "file_extension": ".py",
   "mimetype": "text/x-python",
   "name": "python",
   "nbconvert_exporter": "python",
   "pygments_lexer": "ipython3",
   "version": "3.12.5"
  }
 },
 "nbformat": 4,
 "nbformat_minor": 5
}
