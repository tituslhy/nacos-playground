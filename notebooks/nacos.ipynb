{
 "cells": [
  {
   "cell_type": "code",
   "execution_count": 1,
   "id": "ea2509b8",
   "metadata": {},
   "outputs": [],
   "source": [
    "%load_ext autoreload\n",
    "%autoreload 2"
   ]
  },
  {
   "cell_type": "markdown",
   "id": "c722f79b",
   "metadata": {},
   "source": [
    "# Register ACP service\n",
    "\n",
    "First ensure that your ACP tool is up and running by executing the following command in your terminal from the root directory:\n",
    "```\n",
    "python search_tool.py\n",
    "```"
   ]
  },
  {
   "cell_type": "code",
   "execution_count": 2,
   "id": "0bb81b7d",
   "metadata": {},
   "outputs": [],
   "source": [
    "import nacos\n",
    "\n",
    "SERVER_ADDRESSES = \"http://localhost:8848\"\n",
    "NAMESPACE = \"public\"\n",
    "\n",
    "client = nacos.NacosClient(\n",
    "    SERVER_ADDRESSES,\n",
    "    namespace=NAMESPACE,\n",
    "    # if you need auth:\n",
    "    # ak=\"yourAccessKey\", sk=\"yourSecretKey\"\n",
    ")"
   ]
  },
  {
   "cell_type": "code",
   "execution_count": 3,
   "id": "592e78dc",
   "metadata": {},
   "outputs": [
    {
     "name": "stdout",
     "output_type": "stream",
     "text": [
      "# intentionally left blank\n"
     ]
    }
   ],
   "source": [
    "data_id = \"config.nacos\"\n",
    "group = \"DEFAULT_GROUP\"\n",
    "print(client.get_config(data_id, group))"
   ]
  },
  {
   "cell_type": "code",
   "execution_count": 11,
   "id": "91d4f0ee",
   "metadata": {},
   "outputs": [
    {
     "name": "stdout",
     "output_type": "stream",
     "text": [
      "Registered with Nacos? True\n"
     ]
    }
   ],
   "source": [
    "import os\n",
    "\n",
    "SERVICE_NAME = \"internet-search-agent\"\n",
    "SERVICE_IP   = os.getenv(\"SERVICE_IP\", \"127.0.0.1\")\n",
    "SERVICE_PORT = int(os.getenv(\"SERVICE_PORT\", \"8008\"))\n",
    "\n",
    "success = client.add_naming_instance(\n",
    "    service_name=SERVICE_NAME,\n",
    "    ip=SERVICE_IP,\n",
    "    port=SERVICE_PORT, \n",
    "    weight=1.0, #A float number for load balancing weight\n",
    "    ephemeral=False, \n",
    "    enable=True,\n",
    "    healthy=True,\n",
    "    metadata={\"protocol\": \"acp\"}\n",
    ")\n",
    "print(f\"Registered with Nacos? {success}\")"
   ]
  },
  {
   "cell_type": "markdown",
   "id": "8feca54e",
   "metadata": {},
   "source": [
    "Deregister instance"
   ]
  },
  {
   "cell_type": "code",
   "execution_count": null,
   "id": "286c5d35",
   "metadata": {},
   "outputs": [
    {
     "name": "stdout",
     "output_type": "stream",
     "text": [
      "De-Registered with Nacos? True\n"
     ]
    }
   ],
   "source": [
    "# SERVICE_NAME = \"internet-search-agent\"\n",
    "# SERVICE_IP   = os.getenv(\"SERVICE_IP\", \"127.0.0.1\")\n",
    "# SERVICE_PORT = int(os.getenv(\"SERVICE_PORT\", \"8008\"))\n",
    "\n",
    "# success = client.remove_naming_instance(\n",
    "#     service_name=SERVICE_NAME,\n",
    "#     ip=SERVICE_IP,\n",
    "#     port=SERVICE_PORT, \n",
    "# )\n",
    "# print(f\"De-Registered with Nacos? {success}\")"
   ]
  },
  {
   "cell_type": "code",
   "execution_count": null,
   "id": "b56bedfe",
   "metadata": {},
   "outputs": [],
   "source": [
    "from v2.nacos import NacosNamingService, ClientConfig, ListServiceParam\n",
    "\n",
    "config = ClientConfig(server_addresses=SERVER_ADDRESSES, namespace_id=NAMESPACE)"
   ]
  },
  {
   "cell_type": "code",
   "execution_count": 16,
   "id": "e6f29cfd",
   "metadata": {},
   "outputs": [],
   "source": [
    "import nest_asyncio\n",
    "\n",
    "nest_asyncio.apply()"
   ]
  },
  {
   "cell_type": "code",
   "execution_count": 40,
   "id": "93de5825",
   "metadata": {},
   "outputs": [],
   "source": [
    "named_service = await NacosNamingService.create_naming_service(config)"
   ]
  },
  {
   "cell_type": "code",
   "execution_count": null,
   "id": "fc8fc95a",
   "metadata": {},
   "outputs": [
    {
     "data": {
      "text/plain": [
       "ServiceList(count=2, services=['forex-tool::1.9.2', 'internet-search-agent'])"
      ]
     },
     "execution_count": 41,
     "metadata": {},
     "output_type": "execute_result"
    }
   ],
   "source": [
    "await named_service.list_services(\n",
    "    ListServiceParam(namespace_id=NAMESPACE)\n",
    ")"
   ]
  },
  {
   "cell_type": "code",
   "execution_count": 42,
   "id": "1222dfc0",
   "metadata": {},
   "outputs": [
    {
     "data": {
      "text/plain": [
       "{'name': 'DEFAULT_GROUP@@internet-search-agent',\n",
       " 'groupName': 'DEFAULT_GROUP',\n",
       " 'clusters': '',\n",
       " 'cacheMillis': 10000,\n",
       " 'hosts': [{'instanceId': '127.0.0.1#8008#None#DEFAULT_GROUP@@internet-search-agent',\n",
       "   'ip': '127.0.0.1',\n",
       "   'port': 8008,\n",
       "   'weight': 1.0,\n",
       "   'healthy': False,\n",
       "   'enabled': True,\n",
       "   'ephemeral': False,\n",
       "   'clusterName': 'None',\n",
       "   'serviceName': 'DEFAULT_GROUP@@internet-search-agent',\n",
       "   'metadata': {'protocol': 'acp'},\n",
       "   'instanceHeartBeatInterval': 5000,\n",
       "   'instanceHeartBeatTimeOut': 15000,\n",
       "   'ipDeleteTimeout': 30000}],\n",
       " 'lastRefTime': 1754401687113,\n",
       " 'checksum': '',\n",
       " 'allIps': False,\n",
       " 'reachProtectionThreshold': False,\n",
       " 'valid': True}"
      ]
     },
     "execution_count": 42,
     "metadata": {},
     "output_type": "execute_result"
    }
   ],
   "source": [
    "client.list_naming_instance(\n",
    "    \"internet-search-agent\"\n",
    ")"
   ]
  },
  {
   "cell_type": "markdown",
   "id": "4294bbe1",
   "metadata": {},
   "source": [
    "And thus discoverability was born! Let's ping our \"discovered\" ACP agent"
   ]
  },
  {
   "cell_type": "code",
   "execution_count": null,
   "id": "c0e8d871",
   "metadata": {},
   "outputs": [
    {
     "name": "stdout",
     "output_type": "stream",
     "text": [
      "['agent', {'messages': [{'content': 'A qubit, or quantum bit, is the fundamental unit of quantum information in quantum computing. Unlike a classical bit, which can be either 0 or 1, a qubit can exist in a state of 0, 1, or any quantum superposition of these states. This means that a qubit can represent both 0 and 1 simultaneously to some extent, allowing quantum computers to process a vast amount of information more efficiently than classical computers.\\n\\nKey properties of qubits include:\\n\\n1. **Superposition**: A qubit can be in a combination of both 0 and 1 states at the same time, which enables quantum computers to perform multiple calculations simultaneously.\\n\\n2. **Entanglement**: Qubits can be entangled, meaning the state of one qubit is directly related to the state of another, no matter the distance between them. This property is crucial for quantum communication and computing.\\n\\n3. **Interference**: Quantum algorithms leverage interference to amplify the probabilities of correct answers and cancel out the probabilities of incorrect ones.\\n\\nQubits can be physically realized using various systems, such as photons, atoms, ions, or superconducting circuits, each with its own advantages and challenges.', 'additional_kwargs': {'refusal': None}, 'response_metadata': {'token_usage': {'completion_tokens': 247, 'prompt_tokens': 1274, 'total_tokens': 1521, 'completion_tokens_details': {'accepted_prediction_tokens': 0, 'audio_tokens': 0, 'reasoning_tokens': 0, 'rejected_prediction_tokens': 0}, 'prompt_tokens_details': {'audio_tokens': 0, 'cached_tokens': 1152}}, 'model_name': 'gpt-4o-mini-2024-07-18', 'system_fingerprint': 'fp_34a54ae93c', 'id': 'chatcmpl-C1CVexRHXWQxfCWlxJLbgZhm21Yxq', 'service_tier': 'default', 'finish_reason': 'stop', 'logprobs': None}, 'type': 'ai', 'name': None, 'id': 'run--f3d67d35-0d9d-48e6-b0ad-0999d61903bc-0', 'example': False, 'tool_calls': [], 'invalid_tool_calls': [], 'usage_metadata': {'input_tokens': 1274, 'output_tokens': 247, 'total_tokens': 1521, 'input_token_details': {'audio': 0, 'cache_read': 1152}, 'output_token_details': {'audio': 0, 'reasoning': 0}}}]}]\n",
      "\n",
      "Final response: \n"
     ]
    }
   ],
   "source": [
    "from acp_sdk.client import Client\n",
    "from acp_sdk.models import MessageCompletedEvent, GenericEvent\n",
    "\n",
    "async with Client(base_url=\"http://localhost:8008\") as client:\n",
    "    async for event in client.run_stream(\n",
    "        agent=\"tavily_search_agent\", input=\"What is a qubit??\"\n",
    "    ):\n",
    "        match event:\n",
    "            case MessageCompletedEvent():\n",
    "                print(\"\\nFinal response:\", event.message)\n",
    "            case GenericEvent():\n",
    "                print(event.generic.update)"
   ]
  },
  {
   "cell_type": "markdown",
   "id": "ef05ecad",
   "metadata": {},
   "source": [
    "# A shadow of MCP-Zero"
   ]
  },
  {
   "cell_type": "code",
   "execution_count": 7,
   "id": "41cb1e11",
   "metadata": {},
   "outputs": [],
   "source": [
    "from langchain_mcp_adapters.client import MultiServerMCPClient\n",
    "from langgraph.prebuilt import create_react_agent\n",
    "\n",
    "client = MultiServerMCPClient(\n",
    "    {\n",
    "        \"mcp_router\": {\n",
    "            # Make sure you start your weather server on port 8000\n",
    "            \"url\": \"http://localhost:8000/sse/\",\n",
    "            \"transport\": \"sse\",\n",
    "        }\n",
    "    }\n",
    ")\n",
    "tools = await client.get_tools()"
   ]
  },
  {
   "cell_type": "code",
   "execution_count": 8,
   "id": "f70f8bf6",
   "metadata": {},
   "outputs": [
    {
     "data": {
      "text/plain": [
       "[StructuredTool(name='search_mcp_server', description='执行任务前首先使用本工具。根据任务描述及关键字搜索mcp server, 制定完成任务的步骤。注意：任务描述及关键字需要同时包含中文和英文。', args_schema={'type': 'object', 'required': ['task_description', 'key_words'], 'properties': {'task_description': {'type': 'string', 'description': '用户中文和英文任务描述，中英文描述各占单独一行。如果任务描述只包含中文，请同时输入英文描述，反之亦然。'}, 'key_words': {'type': 'string', 'description': '用户任务关键字，可以为多个，最多为4个，包含中英文关键字，英文逗号分隔'}}}, response_format='content_and_artifact', coroutine=<function convert_mcp_tool_to_langchain_tool.<locals>.call_tool at 0x114077920>),\n",
       " StructuredTool(name='add_mcp_server', description='安装指定的mcp server', args_schema={'type': 'object', 'required': ['mcp_server_name'], 'properties': {'mcp_server_name': {'type': 'string', 'description': 'MCP Server名称'}}}, response_format='content_and_artifact', coroutine=<function convert_mcp_tool_to_langchain_tool.<locals>.call_tool at 0x117c58e00>),\n",
       " StructuredTool(name='use_tool', description='使用某个MCP Server的工具', args_schema={'type': 'object', 'required': ['mcp_server_name', 'mcp_tool_name', 'params'], 'properties': {'mcp_server_name': {'type': 'string', 'description': '需要使用的MCP Server名称'}, 'mcp_tool_name': {'type': 'string', 'description': '需要使用的MCP Server工具名称'}, 'params': {'type': 'string', 'description': '需要使用的MCP Server工具的参数'}}}, response_format='content_and_artifact', coroutine=<function convert_mcp_tool_to_langchain_tool.<locals>.call_tool at 0x117c593a0>)]"
      ]
     },
     "execution_count": 8,
     "metadata": {},
     "output_type": "execute_result"
    }
   ],
   "source": [
    "tools"
   ]
  },
  {
   "cell_type": "markdown",
   "id": "c7599874",
   "metadata": {},
   "source": [
    "Wow the description is in Chinese! "
   ]
  },
  {
   "cell_type": "code",
   "execution_count": 10,
   "id": "aaee5478",
   "metadata": {},
   "outputs": [],
   "source": [
    "from dotenv import load_dotenv, find_dotenv\n",
    "from langchain_openai import ChatOpenAI\n",
    "from langgraph.prebuilt import create_react_agent\n",
    "\n",
    "_ = load_dotenv(find_dotenv())\n",
    "llm = ChatOpenAI(\n",
    "    model=\"gpt-4o-mini\",\n",
    "    temperature=0,\n",
    "    max_tokens=None,\n",
    "    timeout=None,\n",
    "    max_retries=2\n",
    ")\n",
    "openai_agent = create_react_agent(model=llm, tools=tools)"
   ]
  },
  {
   "cell_type": "code",
   "execution_count": 11,
   "id": "4db18878",
   "metadata": {},
   "outputs": [
    {
     "name": "stdout",
     "output_type": "stream",
     "text": [
      "('agent', {'messages': [AIMessage(content='', additional_kwargs={'tool_calls': [{'id': 'call_ZUlLlGFN0mj7Qi1KY3xLnT5G', 'function': {'arguments': '{\"task_description\":\"What is the exchange rate between USD and EUR?\",\"key_words\":\"exchange rate, USD, EUR\"}', 'name': 'search_mcp_server'}, 'type': 'function'}], 'refusal': None}, response_metadata={'token_usage': {'completion_tokens': 36, 'prompt_tokens': 256, 'total_tokens': 292, 'completion_tokens_details': {'accepted_prediction_tokens': 0, 'audio_tokens': 0, 'reasoning_tokens': 0, 'rejected_prediction_tokens': 0}, 'prompt_tokens_details': {'audio_tokens': 0, 'cached_tokens': 0}}, 'model_name': 'gpt-4o-mini-2024-07-18', 'system_fingerprint': 'fp_34a54ae93c', 'id': 'chatcmpl-C1CaWS0BFoh1CFNWmhaGqwcfXgP2K', 'service_tier': 'default', 'finish_reason': 'tool_calls', 'logprobs': None}, id='run--a462cb23-d092-4426-8bfd-abee4aefcae3-0', tool_calls=[{'name': 'search_mcp_server', 'args': {'task_description': 'What is the exchange rate between USD and EUR?', 'key_words': 'exchange rate, USD, EUR'}, 'id': 'call_ZUlLlGFN0mj7Qi1KY3xLnT5G', 'type': 'tool_call'}], usage_metadata={'input_tokens': 256, 'output_tokens': 36, 'total_tokens': 292, 'input_token_details': {'audio': 0, 'cache_read': 0}, 'output_token_details': {'audio': 0, 'reasoning': 0}})]})\n",
      "('tools', {'messages': [ToolMessage(content='## 获取What is the exchange rate between USD and EUR?的步骤如下：\\n### 1. 当前可用的mcp server列表为：{\"forex-tool\": {\"name\": \"forex-tool\", \"description\": \"forex-tool\"}}\\n### 2. 从当前可用的mcp server列表中选择你需要的mcp server调add_mcp_server工具安装mcp server', name='search_mcp_server', id='7e3a185b-a521-4e15-babb-e236bf04a304', tool_call_id='call_ZUlLlGFN0mj7Qi1KY3xLnT5G')]})\n",
      "('agent', {'messages': [AIMessage(content='', additional_kwargs={'tool_calls': [{'id': 'call_tQDUKy7tiBa1VI4Nb0ODsNEh', 'function': {'arguments': '{\"mcp_server_name\":\"forex-tool\"}', 'name': 'add_mcp_server'}, 'type': 'function'}], 'refusal': None}, response_metadata={'token_usage': {'completion_tokens': 21, 'prompt_tokens': 385, 'total_tokens': 406, 'completion_tokens_details': {'accepted_prediction_tokens': 0, 'audio_tokens': 0, 'reasoning_tokens': 0, 'rejected_prediction_tokens': 0}, 'prompt_tokens_details': {'audio_tokens': 0, 'cached_tokens': 0}}, 'model_name': 'gpt-4o-mini-2024-07-18', 'system_fingerprint': 'fp_34a54ae93c', 'id': 'chatcmpl-C1CaYcAfWVDDi6e3myW7pF9uepbRD', 'service_tier': 'default', 'finish_reason': 'tool_calls', 'logprobs': None}, id='run--b2f3129e-d1fe-4a57-b830-8c7c87502ebc-0', tool_calls=[{'name': 'add_mcp_server', 'args': {'mcp_server_name': 'forex-tool'}, 'id': 'call_tQDUKy7tiBa1VI4Nb0ODsNEh', 'type': 'tool_call'}], usage_metadata={'input_tokens': 385, 'output_tokens': 21, 'total_tokens': 406, 'input_token_details': {'audio': 0, 'cache_read': 0}, 'output_token_details': {'audio': 0, 'reasoning': 0}})]})\n",
      "('tools', {'messages': [ToolMessage(content='1. forex-tool安装完成, tool 列表为: [{\"name\": \"get_exchange_rate\", \"description\": \"Use this to get current exchange rate.\\\\n\\\\n    Args:\\\\n        currency_from: The currency to convert from (e.g., \\\\\"USD\\\\\").\\\\n        currency_to: The currency to convert to (e.g., \\\\\"EUR\\\\\").\\\\n\\\\n    Returns:\\\\n        A dictionary containing the exchange rate data, or an error message if the request fails.\\\\n    \", \"inputSchema\": {\"properties\": {\"currency_from\": {\"default\": \"USD\", \"title\": \"Currency From\", \"type\": \"string\"}, \"currency_to\": {\"default\": \"EUR\", \"title\": \"Currency To\", \"type\": \"string\"}}, \"title\": \"get_exchange_rateArguments\", \"type\": \"object\"}}]\\n2.forex-tool的工具需要通过nacos-mcp-router的use_tool工具代理使用', name='add_mcp_server', id='5ccd3f05-71da-4e49-848a-baa50dfcbcf7', tool_call_id='call_tQDUKy7tiBa1VI4Nb0ODsNEh')]})\n",
      "('agent', {'messages': [AIMessage(content='', additional_kwargs={'tool_calls': [{'id': 'call_vdHZUx00UubkCI3hpIHIgkBJ', 'function': {'arguments': '{\"mcp_server_name\":\"forex-tool\",\"mcp_tool_name\":\"get_exchange_rate\",\"params\":\"{\\\\\"currency_from\\\\\":\\\\\"USD\\\\\",\\\\\"currency_to\\\\\":\\\\\"EUR\\\\\"}\"}', 'name': 'use_tool'}, 'type': 'function'}], 'refusal': None}, response_metadata={'token_usage': {'completion_tokens': 43, 'prompt_tokens': 608, 'total_tokens': 651, 'completion_tokens_details': {'accepted_prediction_tokens': 0, 'audio_tokens': 0, 'reasoning_tokens': 0, 'rejected_prediction_tokens': 0}, 'prompt_tokens_details': {'audio_tokens': 0, 'cached_tokens': 0}}, 'model_name': 'gpt-4o-mini-2024-07-18', 'system_fingerprint': 'fp_34a54ae93c', 'id': 'chatcmpl-C1CabNagaWb3yvDtR0I9idpNl6DDW', 'service_tier': 'default', 'finish_reason': 'tool_calls', 'logprobs': None}, id='run--12678171-671b-46b8-858b-7b0abd471e3e-0', tool_calls=[{'name': 'use_tool', 'args': {'mcp_server_name': 'forex-tool', 'mcp_tool_name': 'get_exchange_rate', 'params': '{\"currency_from\":\"USD\",\"currency_to\":\"EUR\"}'}, 'id': 'call_vdHZUx00UubkCI3hpIHIgkBJ', 'type': 'tool_call'}], usage_metadata={'input_tokens': 608, 'output_tokens': 43, 'total_tokens': 651, 'input_token_details': {'audio': 0, 'cache_read': 0}, 'output_token_details': {'audio': 0, 'reasoning': 0}})]})\n",
      "('tools', {'messages': [ToolMessage(content='[TextContent(type=\\'text\\', text=\\'{\\\\n  \"amount\": 1.0,\\\\n  \"base\": \"USD\",\\\\n  \"date\": \"2025-08-04\",\\\\n  \"rates\": {\\\\n    \"EUR\": 0.86468\\\\n  }\\\\n}\\', annotations=None, meta=None)]', name='use_tool', id='a5f8a9d3-a389-4bec-af2a-5efdc273502d', tool_call_id='call_vdHZUx00UubkCI3hpIHIgkBJ')]})\n",
      "('agent', {'messages': [AIMessage(content='The current exchange rate from USD to EUR is approximately 0.86468.', additional_kwargs={'refusal': None}, response_metadata={'token_usage': {'completion_tokens': 17, 'prompt_tokens': 729, 'total_tokens': 746, 'completion_tokens_details': {'accepted_prediction_tokens': 0, 'audio_tokens': 0, 'reasoning_tokens': 0, 'rejected_prediction_tokens': 0}, 'prompt_tokens_details': {'audio_tokens': 0, 'cached_tokens': 0}}, 'model_name': 'gpt-4o-mini-2024-07-18', 'system_fingerprint': 'fp_34a54ae93c', 'id': 'chatcmpl-C1Caf1fk7o0nJP5bZSXfSc4HhDE7u', 'service_tier': 'default', 'finish_reason': 'stop', 'logprobs': None}, id='run--29a63192-a928-436b-95ed-1ea1449e9f5e-0', usage_metadata={'input_tokens': 729, 'output_tokens': 17, 'total_tokens': 746, 'input_token_details': {'audio': 0, 'cache_read': 0}, 'output_token_details': {'audio': 0, 'reasoning': 0}})]})\n"
     ]
    }
   ],
   "source": [
    "async for chunk in openai_agent.astream(\n",
    "    {\"messages\": [{\"role\": \"user\", \"content\": \"What is the exchange rate between USD and EUR?\"}]},\n",
    "    stream_mode=\"updates\"\n",
    "):\n",
    "    for value in chunk.items():\n",
    "        print(value)"
   ]
  },
  {
   "cell_type": "markdown",
   "id": "f30f1c15",
   "metadata": {},
   "source": [
    "The MCP router tool handles the routing for us! We only need to provide it the MCP tool!"
   ]
  },
  {
   "cell_type": "code",
   "execution_count": null,
   "id": "4a234e3b",
   "metadata": {},
   "outputs": [],
   "source": []
  }
 ],
 "metadata": {
  "kernelspec": {
   "display_name": "nacos-playground",
   "language": "python",
   "name": "python3"
  },
  "language_info": {
   "codemirror_mode": {
    "name": "ipython",
    "version": 3
   },
   "file_extension": ".py",
   "mimetype": "text/x-python",
   "name": "python",
   "nbconvert_exporter": "python",
   "pygments_lexer": "ipython3",
   "version": "3.12.5"
  }
 },
 "nbformat": 4,
 "nbformat_minor": 5
}
